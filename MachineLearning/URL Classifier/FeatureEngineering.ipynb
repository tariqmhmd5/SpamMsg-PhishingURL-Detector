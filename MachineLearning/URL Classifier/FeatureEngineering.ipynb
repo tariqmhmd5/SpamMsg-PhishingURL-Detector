{
 "metadata": {
  "language_info": {
   "codemirror_mode": {
    "name": "ipython",
    "version": 3
   },
   "file_extension": ".py",
   "mimetype": "text/x-python",
   "name": "python",
   "nbconvert_exporter": "python",
   "pygments_lexer": "ipython3",
   "version": "3.7.9-final"
  },
  "orig_nbformat": 2,
  "kernelspec": {
   "name": "python3",
   "display_name": "Python 3"
  }
 },
 "nbformat": 4,
 "nbformat_minor": 2,
 "cells": [
  {
   "cell_type": "code",
   "execution_count": 18,
   "metadata": {},
   "outputs": [],
   "source": [
    "import pandas as pd\n",
    "import numpy as np\n",
    "from FeatureExtractor import getAttributess"
   ]
  },
  {
   "cell_type": "code",
   "execution_count": 6,
   "metadata": {},
   "outputs": [],
   "source": [
    "trusted = pd.read_csv(\"raw_data/Trusted_urls.txt\",header=None,names=[\"urls\"])\n",
    "phishing = pd.read_csv(\"raw_data/phishing_urls.txt\",header=None,names=[\"urls\"])"
   ]
  },
  {
   "cell_type": "code",
   "execution_count": 7,
   "metadata": {
    "tags": []
   },
   "outputs": [],
   "source": [
    "d=[]\n",
    "for i in trusted['urls']:\n",
    "    d.append(getAttributess(i).values.ravel())"
   ]
  },
  {
   "cell_type": "code",
   "execution_count": 8,
   "metadata": {},
   "outputs": [],
   "source": [
    "df = pd.DataFrame(d)\n",
    "df['label'] = 0\n",
    "df.columns = ['Having_@_symbol','Having_IP',\n",
    "       'Prefix_suffix_separation',\n",
    "       'Redirection_//_symbol',\n",
    "       'Sub_domains','URL_Length',\n",
    "       'age_domain','dns_record',\n",
    "       'domain_registration_length',\n",
    "       'http_tokens','statistical_report',\n",
    "       'tiny_url','web_traffic','label']\n",
    "df.to_csv(\"trusted-urls.csv\",index=False,encoding='UTF-8')"
   ]
  },
  {
   "cell_type": "code",
   "execution_count": 22,
   "metadata": {},
   "outputs": [],
   "source": [
    "d=[]\n",
    "for i in phishing['urls']:\n",
    "    try:\n",
    "        d.append(getAttributess(i).values.ravel())\n",
    "    except:\n",
    "        pass"
   ]
  },
  {
   "cell_type": "code",
   "execution_count": 23,
   "metadata": {},
   "outputs": [],
   "source": [
    "df1 = pd.DataFrame(d)\n",
    "df1['label'] = 1\n",
    "df1.columns = ['Having_@_symbol','Having_IP',\n",
    "       'Prefix_suffix_separation',\n",
    "       'Redirection_//_symbol',\n",
    "       'Sub_domains','URL_Length',\n",
    "       'age_domain','dns_record',\n",
    "       'domain_registration_length',\n",
    "       'http_tokens','statistical_report',\n",
    "       'tiny_url','web_traffic','label']\n",
    "df1.to_csv(\"phishing-urls.csv\",index=False,encoding='UTF-8')"
   ]
  },
  {
   "cell_type": "code",
   "execution_count": 24,
   "metadata": {},
   "outputs": [
    {
     "output_type": "execute_result",
     "data": {
      "text/plain": [
       "     Having_@_symbol  Having_IP  Prefix_suffix_separation  \\\n",
       "0                  0          0                         0   \n",
       "1                  0          0                         0   \n",
       "2                  0          0                         0   \n",
       "3                  0          0                         0   \n",
       "4                  0          1                         0   \n",
       "..               ...        ...                       ...   \n",
       "990                0          0                         0   \n",
       "991                0          0                         0   \n",
       "992                0          0                         0   \n",
       "993                0          0                         1   \n",
       "994                0          0                         1   \n",
       "\n",
       "     Redirection_//_symbol  Sub_domains  URL_Length  age_domain  dns_record  \\\n",
       "0                        0            0           0           1           1   \n",
       "1                        0            1           1           1           1   \n",
       "2                        0            0           0           1           1   \n",
       "3                        0            0           0           1           1   \n",
       "4                        0            2           0           1           1   \n",
       "..                     ...          ...         ...         ...         ...   \n",
       "990                      0            1           1           1           1   \n",
       "991                      0            1           1           1           1   \n",
       "992                      0            0           0           1           1   \n",
       "993                      0            0           2           1           1   \n",
       "994                      0            2           2           1           1   \n",
       "\n",
       "     domain_registration_length  http_tokens  statistical_report  tiny_url  \\\n",
       "0                             1            0                   0         1   \n",
       "1                             1            0                   1         0   \n",
       "2                             1            0                   1         0   \n",
       "3                             1            0                   1         0   \n",
       "4                             1            0                   0         0   \n",
       "..                          ...          ...                 ...       ...   \n",
       "990                           1            0                   0         0   \n",
       "991                           1            0                   0         0   \n",
       "992                           1            0                   0         0   \n",
       "993                           1            0                   1         0   \n",
       "994                           1            0                   1         0   \n",
       "\n",
       "     web_traffic  label  \n",
       "0              1      1  \n",
       "1              1      1  \n",
       "2              1      1  \n",
       "3              1      1  \n",
       "4              1      1  \n",
       "..           ...    ...  \n",
       "990            1      1  \n",
       "991            1      1  \n",
       "992            1      1  \n",
       "993            1      1  \n",
       "994            1      1  \n",
       "\n",
       "[995 rows x 14 columns]"
      ],
      "text/html": "<div>\n<style scoped>\n    .dataframe tbody tr th:only-of-type {\n        vertical-align: middle;\n    }\n\n    .dataframe tbody tr th {\n        vertical-align: top;\n    }\n\n    .dataframe thead th {\n        text-align: right;\n    }\n</style>\n<table border=\"1\" class=\"dataframe\">\n  <thead>\n    <tr style=\"text-align: right;\">\n      <th></th>\n      <th>Having_@_symbol</th>\n      <th>Having_IP</th>\n      <th>Prefix_suffix_separation</th>\n      <th>Redirection_//_symbol</th>\n      <th>Sub_domains</th>\n      <th>URL_Length</th>\n      <th>age_domain</th>\n      <th>dns_record</th>\n      <th>domain_registration_length</th>\n      <th>http_tokens</th>\n      <th>statistical_report</th>\n      <th>tiny_url</th>\n      <th>web_traffic</th>\n      <th>label</th>\n    </tr>\n  </thead>\n  <tbody>\n    <tr>\n      <th>0</th>\n      <td>0</td>\n      <td>0</td>\n      <td>0</td>\n      <td>0</td>\n      <td>0</td>\n      <td>0</td>\n      <td>1</td>\n      <td>1</td>\n      <td>1</td>\n      <td>0</td>\n      <td>0</td>\n      <td>1</td>\n      <td>1</td>\n      <td>1</td>\n    </tr>\n    <tr>\n      <th>1</th>\n      <td>0</td>\n      <td>0</td>\n      <td>0</td>\n      <td>0</td>\n      <td>1</td>\n      <td>1</td>\n      <td>1</td>\n      <td>1</td>\n      <td>1</td>\n      <td>0</td>\n      <td>1</td>\n      <td>0</td>\n      <td>1</td>\n      <td>1</td>\n    </tr>\n    <tr>\n      <th>2</th>\n      <td>0</td>\n      <td>0</td>\n      <td>0</td>\n      <td>0</td>\n      <td>0</td>\n      <td>0</td>\n      <td>1</td>\n      <td>1</td>\n      <td>1</td>\n      <td>0</td>\n      <td>1</td>\n      <td>0</td>\n      <td>1</td>\n      <td>1</td>\n    </tr>\n    <tr>\n      <th>3</th>\n      <td>0</td>\n      <td>0</td>\n      <td>0</td>\n      <td>0</td>\n      <td>0</td>\n      <td>0</td>\n      <td>1</td>\n      <td>1</td>\n      <td>1</td>\n      <td>0</td>\n      <td>1</td>\n      <td>0</td>\n      <td>1</td>\n      <td>1</td>\n    </tr>\n    <tr>\n      <th>4</th>\n      <td>0</td>\n      <td>1</td>\n      <td>0</td>\n      <td>0</td>\n      <td>2</td>\n      <td>0</td>\n      <td>1</td>\n      <td>1</td>\n      <td>1</td>\n      <td>0</td>\n      <td>0</td>\n      <td>0</td>\n      <td>1</td>\n      <td>1</td>\n    </tr>\n    <tr>\n      <th>...</th>\n      <td>...</td>\n      <td>...</td>\n      <td>...</td>\n      <td>...</td>\n      <td>...</td>\n      <td>...</td>\n      <td>...</td>\n      <td>...</td>\n      <td>...</td>\n      <td>...</td>\n      <td>...</td>\n      <td>...</td>\n      <td>...</td>\n      <td>...</td>\n    </tr>\n    <tr>\n      <th>990</th>\n      <td>0</td>\n      <td>0</td>\n      <td>0</td>\n      <td>0</td>\n      <td>1</td>\n      <td>1</td>\n      <td>1</td>\n      <td>1</td>\n      <td>1</td>\n      <td>0</td>\n      <td>0</td>\n      <td>0</td>\n      <td>1</td>\n      <td>1</td>\n    </tr>\n    <tr>\n      <th>991</th>\n      <td>0</td>\n      <td>0</td>\n      <td>0</td>\n      <td>0</td>\n      <td>1</td>\n      <td>1</td>\n      <td>1</td>\n      <td>1</td>\n      <td>1</td>\n      <td>0</td>\n      <td>0</td>\n      <td>0</td>\n      <td>1</td>\n      <td>1</td>\n    </tr>\n    <tr>\n      <th>992</th>\n      <td>0</td>\n      <td>0</td>\n      <td>0</td>\n      <td>0</td>\n      <td>0</td>\n      <td>0</td>\n      <td>1</td>\n      <td>1</td>\n      <td>1</td>\n      <td>0</td>\n      <td>0</td>\n      <td>0</td>\n      <td>1</td>\n      <td>1</td>\n    </tr>\n    <tr>\n      <th>993</th>\n      <td>0</td>\n      <td>0</td>\n      <td>1</td>\n      <td>0</td>\n      <td>0</td>\n      <td>2</td>\n      <td>1</td>\n      <td>1</td>\n      <td>1</td>\n      <td>0</td>\n      <td>1</td>\n      <td>0</td>\n      <td>1</td>\n      <td>1</td>\n    </tr>\n    <tr>\n      <th>994</th>\n      <td>0</td>\n      <td>0</td>\n      <td>1</td>\n      <td>0</td>\n      <td>2</td>\n      <td>2</td>\n      <td>1</td>\n      <td>1</td>\n      <td>1</td>\n      <td>0</td>\n      <td>1</td>\n      <td>0</td>\n      <td>1</td>\n      <td>1</td>\n    </tr>\n  </tbody>\n</table>\n<p>995 rows × 14 columns</p>\n</div>"
     },
     "metadata": {},
     "execution_count": 24
    }
   ],
   "source": [
    "df1"
   ]
  },
  {
   "cell_type": "code",
   "execution_count": null,
   "metadata": {},
   "outputs": [],
   "source": []
  }
 ]
}